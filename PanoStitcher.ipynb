{
 "cells": [
  {
   "cell_type": "markdown",
   "id": "d1c014d5-ec4c-4d5f-b8a9-a6b3dbeb4689",
   "metadata": {},
   "source": [
    "# Panorama Stitching\n",
    "Based from https://github.com/OpenStitching/stitching_tutorial\n",
    "\n",
    "Get a folder of panorama still images, like created by a drone, and use the OPENCV library (by Stitcher wrapper) to create the Panoramic"
   ]
  },
  {
   "cell_type": "code",
   "execution_count": null,
   "id": "6c2b067a-1ce4-4468-bc0f-f1fff836f672",
   "metadata": {},
   "outputs": [],
   "source": [
    "from stitching import Stitcher\n",
    "from pathlib import Path\n",
    "from matplotlib import pyplot as plt\n",
    "import cv2 as cv\n",
    "\n",
    "def plot_image(img, figsize_in_inches=(5,5)):\n",
    "    fig, ax = plt.subplots(figsize=figsize_in_inches)\n",
    "    ax.imshow(cv.cvtColor(img, cv.COLOR_BGR2RGB))\n",
    "    plt.show()\n",
    "\n",
    "def get_image_paths(img_set):\n",
    "    return [str(path.relative_to('.')) for path in Path('imgs').rglob(f'{img_set}*')]"
   ]
  },
  {
   "cell_type": "code",
   "execution_count": null,
   "id": "31b36dd2-bef5-48f2-9806-71e443e53359",
   "metadata": {},
   "outputs": [],
   "source": [
    "pano_imgs = get_image_paths('PANO')"
   ]
  },
  {
   "cell_type": "code",
   "execution_count": null,
   "id": "5bd1cb70-a741-4ae9-afe3-279be60c42ae",
   "metadata": {},
   "outputs": [],
   "source": [
    "stitcher = Stitcher(try_use_gpu=True)\n",
    "panorama = stitcher.stitch(pano_imgs)  # stitcher.stitch_verbose(pano_imgs)  "
   ]
  },
  {
   "cell_type": "code",
   "execution_count": null,
   "id": "0d85240f-f917-488f-a244-ec75dfa0d077",
   "metadata": {},
   "outputs": [],
   "source": [
    "plot_image(panorama, (20,20))\n",
    "cv.imwrite(\"imgs/Panorama.jpg\", panorama)"
   ]
  }
 ],
 "metadata": {
  "kernelspec": {
   "display_name": "Python 3 (ipykernel)",
   "language": "python",
   "name": "python3"
  },
  "language_info": {
   "codemirror_mode": {
    "name": "ipython",
    "version": 3
   },
   "file_extension": ".py",
   "mimetype": "text/x-python",
   "name": "python",
   "nbconvert_exporter": "python",
   "pygments_lexer": "ipython3",
   "version": "3.8.18"
  }
 },
 "nbformat": 4,
 "nbformat_minor": 5
}
